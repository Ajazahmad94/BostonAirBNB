{
 "cells": [
  {
   "cell_type": "code",
   "execution_count": 1,
   "metadata": {},
   "outputs": [
    {
     "data": {
      "text/plain": [
       "'\\nSet-1 Questions:\\n•\\t\"How many listings are in my neighbourhood and where are they?\"\\n•\\t\"How many houses and apartments are being rented out frequently to tourists and not to long-term residents?\"\\n•\\t\"How much are hosts making from renting to tourists (compare that to long-term rentals)?\"\\n•\\t\"Which hosts are running a business with multiple listings and where they?\"\\n'"
      ]
     },
     "execution_count": 1,
     "metadata": {},
     "output_type": "execute_result"
    }
   ],
   "source": [
    "'''\n",
    "Set-1 Questions:\n",
    "•\t\"How many listings are in my neighbourhood and where are they?\"\n",
    "•\t\"How many houses and apartments are being rented out frequently to tourists and not to long-term residents?\"\n",
    "•\t\"How much are hosts making from renting to tourists (compare that to long-term rentals)?\"\n",
    "•\t\"Which hosts are running a business with multiple listings and where they?\"\n",
    "'''"
   ]
  },
  {
   "cell_type": "code",
   "execution_count": 2,
   "metadata": {},
   "outputs": [],
   "source": [
    "import pandas as pd\n",
    "import numpy as np\n",
    "import matplotlib.pyplot as plt\n",
    "import seaborn as sns"
   ]
  },
  {
   "cell_type": "code",
   "execution_count": 3,
   "metadata": {},
   "outputs": [],
   "source": [
    "calendar= pd.read_csv('P:/Udactity NanoDegree Data Scientist/2.Introduction to Data Science/dataset/Boston AirBNB Data/calendar.csv')\n",
    "listings= pd.read_csv('P:/Udactity NanoDegree Data Scientist/2.Introduction to Data Science/dataset/Boston AirBNB Data/listings.csv')\n",
    "reviews= pd.read_csv('P:/Udactity NanoDegree Data Scientist/2.Introduction to Data Science/dataset/Boston AirBNB Data/reviews.csv')"
   ]
  },
  {
   "cell_type": "code",
   "execution_count": 4,
   "metadata": {},
   "outputs": [],
   "source": [
    "pd.set_option('display.max_columns', None)\n",
    "pd.set_option('display.max_rows', None)"
   ]
  },
  {
   "cell_type": "code",
   "execution_count": 5,
   "metadata": {},
   "outputs": [
    {
     "data": {
      "text/plain": [
       "3585"
      ]
     },
     "execution_count": 5,
     "metadata": {},
     "output_type": "execute_result"
    }
   ],
   "source": [
    "len(listings)"
   ]
  },
  {
   "cell_type": "code",
   "execution_count": null,
   "metadata": {},
   "outputs": [],
   "source": [
    "listings.columns"
   ]
  },
  {
   "cell_type": "code",
   "execution_count": 183,
   "metadata": {},
   "outputs": [],
   "source": [
    "#Wrangling and Cleaning Data"
   ]
  },
  {
   "cell_type": "code",
   "execution_count": null,
   "metadata": {},
   "outputs": [],
   "source": []
  },
  {
   "cell_type": "code",
   "execution_count": 56,
   "metadata": {},
   "outputs": [],
   "source": [
    "#Need to drop columns\n",
    "new_listings=listings[['name',  'host_is_superhost', 'host_listings_count', 'neighbourhood', 'neighbourhood_cleansed','city', 'state', 'latitude', 'longitude','property_type','room_type', 'accommodates','bathrooms','bedrooms', 'beds', 'bed_type','price', 'weekly_price', 'monthly_price', 'has_availability','availability_30', 'availability_60', 'availability_90','availability_365', 'calendar_last_scraped', 'number_of_reviews',  'instant_bookable','calculated_host_listings_count','reviews_per_month']]"
   ]
  },
  {
   "cell_type": "code",
   "execution_count": null,
   "metadata": {},
   "outputs": [],
   "source": [
    "new_listings.columns"
   ]
  },
  {
   "cell_type": "code",
   "execution_count": 57,
   "metadata": {
    "scrolled": false
   },
   "outputs": [
    {
     "data": {
      "text/plain": [
       "has_availability                  3585\n",
       "monthly_price                     2697\n",
       "weekly_price                      2693\n",
       "reviews_per_month                  756\n",
       "neighbourhood                      543\n",
       "bathrooms                           14\n",
       "bedrooms                            10\n",
       "beds                                 9\n",
       "property_type                        3\n",
       "city                                 2\n",
       "availability_30                      0\n",
       "host_is_superhost                    0\n",
       "host_listings_count                  0\n",
       "instant_bookable                     0\n",
       "neighbourhood_cleansed               0\n",
       "state                                0\n",
       "latitude                             0\n",
       "longitude                            0\n",
       "room_type                            0\n",
       "availability_60                      0\n",
       "accommodates                         0\n",
       "number_of_reviews                    0\n",
       "calendar_last_scraped                0\n",
       "calculated_host_listings_count       0\n",
       "bed_type                             0\n",
       "price                                0\n",
       "availability_365                     0\n",
       "availability_90                      0\n",
       "name                                 0\n",
       "dtype: int64"
      ]
     },
     "execution_count": 57,
     "metadata": {},
     "output_type": "execute_result"
    }
   ],
   "source": [
    "new_listings.isna().sum().sort_values(ascending=False)"
   ]
  },
  {
   "cell_type": "code",
   "execution_count": null,
   "metadata": {},
   "outputs": [],
   "source": []
  },
  {
   "cell_type": "code",
   "execution_count": 58,
   "metadata": {},
   "outputs": [],
   "source": [
    "new_listings=new_listings.drop(['has_availability','monthly_price' ,'weekly_price'], axis=1)"
   ]
  },
  {
   "cell_type": "code",
   "execution_count": 59,
   "metadata": {},
   "outputs": [
    {
     "data": {
      "text/plain": [
       "reviews_per_month                 756\n",
       "neighbourhood                     543\n",
       "bathrooms                          14\n",
       "bedrooms                           10\n",
       "beds                                9\n",
       "property_type                       3\n",
       "city                                2\n",
       "number_of_reviews                   0\n",
       "host_is_superhost                   0\n",
       "host_listings_count                 0\n",
       "instant_bookable                    0\n",
       "neighbourhood_cleansed              0\n",
       "state                               0\n",
       "latitude                            0\n",
       "longitude                           0\n",
       "accommodates                        0\n",
       "room_type                           0\n",
       "calendar_last_scraped               0\n",
       "calculated_host_listings_count      0\n",
       "bed_type                            0\n",
       "price                               0\n",
       "availability_30                     0\n",
       "availability_60                     0\n",
       "availability_90                     0\n",
       "availability_365                    0\n",
       "name                                0\n",
       "dtype: int64"
      ]
     },
     "execution_count": 59,
     "metadata": {},
     "output_type": "execute_result"
    }
   ],
   "source": [
    "new_listings.isna().sum().sort_values(ascending=False)"
   ]
  },
  {
   "cell_type": "code",
   "execution_count": null,
   "metadata": {},
   "outputs": [],
   "source": [
    "'''\n",
    "reviews_per_month : mean\n",
    "# value is distributed over a large value so we will take the mean\n",
    "median and mode will not justify the missing values.\n",
    "'''"
   ]
  },
  {
   "cell_type": "code",
   "execution_count": null,
   "metadata": {},
   "outputs": [],
   "source": [
    "#df4['ord_no'].fillna(value=df4['ord_no'].mean(), inplace=True)"
   ]
  },
  {
   "cell_type": "code",
   "execution_count": 152,
   "metadata": {},
   "outputs": [],
   "source": [
    "new_listings['reviews_per_month'].fillna(value=new_listings['reviews_per_month'].mean(),inplace = True)"
   ]
  },
  {
   "cell_type": "code",
   "execution_count": 90,
   "metadata": {},
   "outputs": [
    {
     "data": {
      "text/plain": [
       "'\\nlistings.neighbourhood\\n\\n\\n'"
      ]
     },
     "execution_count": 90,
     "metadata": {},
     "output_type": "execute_result"
    }
   ],
   "source": [
    "'''\n",
    "neighbourhood : we will use forward fill.\n",
    "there is a clear pattern in the data.\n",
    "All the neighbourbood are placed in a sequential manner.\n",
    "Chances are very high that they missed the values while inputing the data.\n",
    "\n",
    "'''"
   ]
  },
  {
   "cell_type": "code",
   "execution_count": 154,
   "metadata": {},
   "outputs": [],
   "source": [
    "new_listings['neighbourhood'].fillna(value=new_listings['neighbourhood'].ffill(),inplace = True)"
   ]
  },
  {
   "cell_type": "code",
   "execution_count": null,
   "metadata": {},
   "outputs": [],
   "source": [
    "'''\n",
    "bathroom : mean()\n",
    "mean will be the best choice\n",
    "'''"
   ]
  },
  {
   "cell_type": "code",
   "execution_count": 143,
   "metadata": {},
   "outputs": [],
   "source": [
    "new_listings['bathrooms'].fillna(value=new_listings['bathrooms'].mean(),inplace = True)"
   ]
  },
  {
   "cell_type": "code",
   "execution_count": null,
   "metadata": {},
   "outputs": [],
   "source": [
    "\n"
   ]
  },
  {
   "cell_type": "code",
   "execution_count": 181,
   "metadata": {},
   "outputs": [],
   "source": [
    "new_listings['bedrooms'].fillna(value=new_listings['bedrooms'].mean(),inplace = True)"
   ]
  },
  {
   "cell_type": "code",
   "execution_count": null,
   "metadata": {},
   "outputs": [],
   "source": [
    "'''\n",
    "bed: mode\n",
    "#most values are 1 so mode will be better choice\n",
    "'''  "
   ]
  },
  {
   "cell_type": "code",
   "execution_count": 156,
   "metadata": {},
   "outputs": [
    {
     "data": {
      "text/plain": [
       "0    1.0\n",
       "dtype: float64"
      ]
     },
     "execution_count": 156,
     "metadata": {},
     "output_type": "execute_result"
    }
   ],
   "source": [
    "new_listings['beds'].mode()"
   ]
  },
  {
   "cell_type": "code",
   "execution_count": 175,
   "metadata": {},
   "outputs": [],
   "source": [
    "new_listings['beds'].fillna(value=new_listings['beds'].mode()[0],inplace = True)"
   ]
  },
  {
   "cell_type": "code",
   "execution_count": 130,
   "metadata": {},
   "outputs": [
    {
     "data": {
      "text/plain": [
       "'\\nproperty_type: mode: Apartment'"
      ]
     },
     "execution_count": 130,
     "metadata": {},
     "output_type": "execute_result"
    }
   ],
   "source": [
    "'''\n",
    "property_type: mode: Apartment'''\n",
    "\n",
    "#listings['property_type'].value_counts()"
   ]
  },
  {
   "cell_type": "code",
   "execution_count": 168,
   "metadata": {},
   "outputs": [],
   "source": [
    "new_listings['property_type'].fillna(new_listings['property_type'].mode()[0], inplace=True)"
   ]
  },
  {
   "cell_type": "code",
   "execution_count": 128,
   "metadata": {},
   "outputs": [
    {
     "data": {
      "text/plain": [
       "'\\ncity: mode: boston\\n'"
      ]
     },
     "execution_count": 128,
     "metadata": {},
     "output_type": "execute_result"
    }
   ],
   "source": [
    "'''\n",
    "city: mode: boston\n",
    "'''\n",
    "#listings.city.value_counts()"
   ]
  },
  {
   "cell_type": "code",
   "execution_count": 179,
   "metadata": {},
   "outputs": [],
   "source": [
    "new_listings['city'].fillna(value=new_listings['city'].mode()[0],inplace = True)"
   ]
  },
  {
   "cell_type": "code",
   "execution_count": 182,
   "metadata": {},
   "outputs": [
    {
     "data": {
      "text/plain": [
       "reviews_per_month                 0\n",
       "calculated_host_listings_count    0\n",
       "host_is_superhost                 0\n",
       "host_listings_count               0\n",
       "neighbourhood                     0\n",
       "neighbourhood_cleansed            0\n",
       "city                              0\n",
       "state                             0\n",
       "latitude                          0\n",
       "longitude                         0\n",
       "property_type                     0\n",
       "room_type                         0\n",
       "accommodates                      0\n",
       "bathrooms                         0\n",
       "bedrooms                          0\n",
       "beds                              0\n",
       "bed_type                          0\n",
       "price                             0\n",
       "availability_30                   0\n",
       "availability_60                   0\n",
       "availability_90                   0\n",
       "availability_365                  0\n",
       "calendar_last_scraped             0\n",
       "number_of_reviews                 0\n",
       "instant_bookable                  0\n",
       "name                              0\n",
       "dtype: int64"
      ]
     },
     "execution_count": 182,
     "metadata": {},
     "output_type": "execute_result"
    }
   ],
   "source": [
    "new_listings.isna().sum().sort_values(ascending=False)"
   ]
  },
  {
   "cell_type": "code",
   "execution_count": 184,
   "metadata": {},
   "outputs": [],
   "source": [
    "#Wrangling and Cleaning Data: Done"
   ]
  },
  {
   "cell_type": "code",
   "execution_count": null,
   "metadata": {},
   "outputs": [],
   "source": []
  },
  {
   "cell_type": "code",
   "execution_count": null,
   "metadata": {},
   "outputs": [],
   "source": []
  },
  {
   "cell_type": "code",
   "execution_count": null,
   "metadata": {},
   "outputs": [],
   "source": []
  },
  {
   "cell_type": "code",
   "execution_count": null,
   "metadata": {},
   "outputs": [],
   "source": []
  },
  {
   "cell_type": "code",
   "execution_count": null,
   "metadata": {},
   "outputs": [],
   "source": []
  },
  {
   "cell_type": "code",
   "execution_count": null,
   "metadata": {},
   "outputs": [],
   "source": []
  },
  {
   "cell_type": "code",
   "execution_count": null,
   "metadata": {},
   "outputs": [],
   "source": []
  },
  {
   "cell_type": "code",
   "execution_count": null,
   "metadata": {},
   "outputs": [],
   "source": []
  },
  {
   "cell_type": "code",
   "execution_count": null,
   "metadata": {},
   "outputs": [],
   "source": []
  },
  {
   "cell_type": "code",
   "execution_count": null,
   "metadata": {},
   "outputs": [],
   "source": []
  },
  {
   "cell_type": "code",
   "execution_count": null,
   "metadata": {},
   "outputs": [],
   "source": []
  },
  {
   "cell_type": "code",
   "execution_count": null,
   "metadata": {},
   "outputs": [],
   "source": []
  },
  {
   "cell_type": "code",
   "execution_count": null,
   "metadata": {},
   "outputs": [],
   "source": []
  },
  {
   "cell_type": "code",
   "execution_count": null,
   "metadata": {},
   "outputs": [],
   "source": []
  },
  {
   "cell_type": "code",
   "execution_count": null,
   "metadata": {},
   "outputs": [],
   "source": []
  },
  {
   "cell_type": "code",
   "execution_count": null,
   "metadata": {},
   "outputs": [],
   "source": []
  },
  {
   "cell_type": "code",
   "execution_count": null,
   "metadata": {},
   "outputs": [],
   "source": []
  },
  {
   "cell_type": "code",
   "execution_count": null,
   "metadata": {},
   "outputs": [],
   "source": []
  },
  {
   "cell_type": "code",
   "execution_count": null,
   "metadata": {},
   "outputs": [],
   "source": []
  },
  {
   "cell_type": "code",
   "execution_count": null,
   "metadata": {},
   "outputs": [],
   "source": []
  },
  {
   "cell_type": "code",
   "execution_count": 14,
   "metadata": {},
   "outputs": [
    {
     "data": {
      "text/plain": [
       "array([  1,   3,   2,   4,   6,  79,  17,   7, 136,  10,  61,  11,   5,\n",
       "        13,  58,  25,  15,  24,  20,  50,  12,  19,  14,   8,   9],\n",
       "      dtype=int64)"
      ]
     },
     "execution_count": 14,
     "metadata": {},
     "output_type": "execute_result"
    }
   ],
   "source": [
    "listings.calculated_host_listings_count.unique()"
   ]
  },
  {
   "cell_type": "code",
   "execution_count": 15,
   "metadata": {},
   "outputs": [
    {
     "data": {
      "text/plain": [
       "id                                    int64\n",
       "listing_url                          object\n",
       "scrape_id                             int64\n",
       "last_scraped                         object\n",
       "name                                 object\n",
       "summary                              object\n",
       "space                                object\n",
       "description                          object\n",
       "experiences_offered                  object\n",
       "neighborhood_overview                object\n",
       "notes                                object\n",
       "transit                              object\n",
       "access                               object\n",
       "interaction                          object\n",
       "house_rules                          object\n",
       "thumbnail_url                        object\n",
       "medium_url                           object\n",
       "picture_url                          object\n",
       "xl_picture_url                       object\n",
       "host_id                               int64\n",
       "host_url                             object\n",
       "host_name                            object\n",
       "host_since                           object\n",
       "host_location                        object\n",
       "host_about                           object\n",
       "host_response_time                   object\n",
       "host_response_rate                   object\n",
       "host_acceptance_rate                 object\n",
       "host_is_superhost                    object\n",
       "host_thumbnail_url                   object\n",
       "host_picture_url                     object\n",
       "host_neighbourhood                   object\n",
       "host_listings_count                   int64\n",
       "host_total_listings_count             int64\n",
       "host_verifications                   object\n",
       "host_has_profile_pic                 object\n",
       "host_identity_verified               object\n",
       "street                               object\n",
       "neighbourhood                        object\n",
       "neighbourhood_cleansed               object\n",
       "neighbourhood_group_cleansed        float64\n",
       "city                                 object\n",
       "state                                object\n",
       "zipcode                              object\n",
       "market                               object\n",
       "smart_location                       object\n",
       "country_code                         object\n",
       "country                              object\n",
       "latitude                            float64\n",
       "longitude                           float64\n",
       "is_location_exact                    object\n",
       "property_type                        object\n",
       "room_type                            object\n",
       "accommodates                          int64\n",
       "bathrooms                           float64\n",
       "bedrooms                            float64\n",
       "beds                                float64\n",
       "bed_type                             object\n",
       "amenities                            object\n",
       "square_feet                         float64\n",
       "price                                object\n",
       "weekly_price                         object\n",
       "monthly_price                        object\n",
       "security_deposit                     object\n",
       "cleaning_fee                         object\n",
       "guests_included                       int64\n",
       "extra_people                         object\n",
       "minimum_nights                        int64\n",
       "maximum_nights                        int64\n",
       "calendar_updated                     object\n",
       "has_availability                    float64\n",
       "availability_30                       int64\n",
       "availability_60                       int64\n",
       "availability_90                       int64\n",
       "availability_365                      int64\n",
       "calendar_last_scraped                object\n",
       "number_of_reviews                     int64\n",
       "first_review                         object\n",
       "last_review                          object\n",
       "review_scores_rating                float64\n",
       "review_scores_accuracy              float64\n",
       "review_scores_cleanliness           float64\n",
       "review_scores_checkin               float64\n",
       "review_scores_communication         float64\n",
       "review_scores_location              float64\n",
       "review_scores_value                 float64\n",
       "requires_license                     object\n",
       "license                             float64\n",
       "jurisdiction_names                  float64\n",
       "instant_bookable                     object\n",
       "cancellation_policy                  object\n",
       "require_guest_profile_picture        object\n",
       "require_guest_phone_verification     object\n",
       "calculated_host_listings_count        int64\n",
       "reviews_per_month                   float64\n",
       "dtype: object"
      ]
     },
     "execution_count": 15,
     "metadata": {},
     "output_type": "execute_result"
    }
   ],
   "source": [
    "listings.dtypes"
   ]
  },
  {
   "cell_type": "code",
   "execution_count": 16,
   "metadata": {
    "scrolled": true
   },
   "outputs": [
    {
     "data": {
      "text/plain": [
       "id                                     0\n",
       "listing_url                            0\n",
       "scrape_id                              0\n",
       "last_scraped                           0\n",
       "name                                   0\n",
       "summary                              143\n",
       "space                               1057\n",
       "description                            0\n",
       "experiences_offered                    0\n",
       "neighborhood_overview               1415\n",
       "notes                               1975\n",
       "transit                             1290\n",
       "access                              1489\n",
       "interaction                         1554\n",
       "house_rules                         1192\n",
       "thumbnail_url                        599\n",
       "medium_url                           599\n",
       "picture_url                            0\n",
       "xl_picture_url                       599\n",
       "host_id                                0\n",
       "host_url                               0\n",
       "host_name                              0\n",
       "host_since                             0\n",
       "host_location                         11\n",
       "host_about                          1309\n",
       "host_response_time                   471\n",
       "host_response_rate                   471\n",
       "host_acceptance_rate                 471\n",
       "host_is_superhost                      0\n",
       "host_thumbnail_url                     0\n",
       "host_picture_url                       0\n",
       "host_neighbourhood                   339\n",
       "host_listings_count                    0\n",
       "host_total_listings_count              0\n",
       "host_verifications                     0\n",
       "host_has_profile_pic                   0\n",
       "host_identity_verified                 0\n",
       "street                                 0\n",
       "neighbourhood                        543\n",
       "neighbourhood_cleansed                 0\n",
       "neighbourhood_group_cleansed        3585\n",
       "city                                   2\n",
       "state                                  0\n",
       "zipcode                               38\n",
       "market                                14\n",
       "smart_location                         0\n",
       "country_code                           0\n",
       "country                                0\n",
       "latitude                               0\n",
       "longitude                              0\n",
       "is_location_exact                      0\n",
       "property_type                          3\n",
       "room_type                              0\n",
       "accommodates                           0\n",
       "bathrooms                             14\n",
       "bedrooms                              10\n",
       "beds                                   9\n",
       "bed_type                               0\n",
       "amenities                              0\n",
       "square_feet                         3529\n",
       "price                                  0\n",
       "weekly_price                        2693\n",
       "monthly_price                       2697\n",
       "security_deposit                    2243\n",
       "cleaning_fee                        1107\n",
       "guests_included                        0\n",
       "extra_people                           0\n",
       "minimum_nights                         0\n",
       "maximum_nights                         0\n",
       "calendar_updated                       0\n",
       "has_availability                    3585\n",
       "availability_30                        0\n",
       "availability_60                        0\n",
       "availability_90                        0\n",
       "availability_365                       0\n",
       "calendar_last_scraped                  0\n",
       "number_of_reviews                      0\n",
       "first_review                         756\n",
       "last_review                          756\n",
       "review_scores_rating                 813\n",
       "review_scores_accuracy               823\n",
       "review_scores_cleanliness            818\n",
       "review_scores_checkin                820\n",
       "review_scores_communication          818\n",
       "review_scores_location               822\n",
       "review_scores_value                  821\n",
       "requires_license                       0\n",
       "license                             3585\n",
       "jurisdiction_names                  3585\n",
       "instant_bookable                       0\n",
       "cancellation_policy                    0\n",
       "require_guest_profile_picture          0\n",
       "require_guest_phone_verification       0\n",
       "calculated_host_listings_count         0\n",
       "reviews_per_month                    756\n",
       "dtype: int64"
      ]
     },
     "execution_count": 16,
     "metadata": {},
     "output_type": "execute_result"
    }
   ],
   "source": [
    "listings.isna().sum()"
   ]
  },
  {
   "cell_type": "code",
   "execution_count": null,
   "metadata": {},
   "outputs": [],
   "source": []
  },
  {
   "cell_type": "code",
   "execution_count": null,
   "metadata": {},
   "outputs": [],
   "source": []
  },
  {
   "cell_type": "code",
   "execution_count": null,
   "metadata": {},
   "outputs": [],
   "source": []
  },
  {
   "cell_type": "code",
   "execution_count": 17,
   "metadata": {},
   "outputs": [
    {
     "data": {
      "text/html": [
       "<div>\n",
       "<style scoped>\n",
       "    .dataframe tbody tr th:only-of-type {\n",
       "        vertical-align: middle;\n",
       "    }\n",
       "\n",
       "    .dataframe tbody tr th {\n",
       "        vertical-align: top;\n",
       "    }\n",
       "\n",
       "    .dataframe thead th {\n",
       "        text-align: right;\n",
       "    }\n",
       "</style>\n",
       "<table border=\"1\" class=\"dataframe\">\n",
       "  <thead>\n",
       "    <tr style=\"text-align: right;\">\n",
       "      <th></th>\n",
       "      <th>id</th>\n",
       "      <th>name</th>\n",
       "      <th>neighbourhood</th>\n",
       "    </tr>\n",
       "  </thead>\n",
       "  <tbody>\n",
       "    <tr>\n",
       "      <th>0</th>\n",
       "      <td>12147973</td>\n",
       "      <td>Sunny Bungalow in the City</td>\n",
       "      <td>Roslindale</td>\n",
       "    </tr>\n",
       "    <tr>\n",
       "      <th>1</th>\n",
       "      <td>3075044</td>\n",
       "      <td>Charming room in pet friendly apt</td>\n",
       "      <td>Roslindale</td>\n",
       "    </tr>\n",
       "    <tr>\n",
       "      <th>2</th>\n",
       "      <td>6976</td>\n",
       "      <td>Mexican Folk Art Haven in Boston</td>\n",
       "      <td>Roslindale</td>\n",
       "    </tr>\n",
       "    <tr>\n",
       "      <th>3</th>\n",
       "      <td>1436513</td>\n",
       "      <td>Spacious Sunny Bedroom Suite in Historic Home</td>\n",
       "      <td>NaN</td>\n",
       "    </tr>\n",
       "    <tr>\n",
       "      <th>4</th>\n",
       "      <td>7651065</td>\n",
       "      <td>Come Home to Boston</td>\n",
       "      <td>Roslindale</td>\n",
       "    </tr>\n",
       "  </tbody>\n",
       "</table>\n",
       "</div>"
      ],
      "text/plain": [
       "         id                                           name neighbourhood\n",
       "0  12147973                     Sunny Bungalow in the City    Roslindale\n",
       "1   3075044              Charming room in pet friendly apt    Roslindale\n",
       "2      6976               Mexican Folk Art Haven in Boston    Roslindale\n",
       "3   1436513  Spacious Sunny Bedroom Suite in Historic Home           NaN\n",
       "4   7651065                            Come Home to Boston    Roslindale"
      ]
     },
     "execution_count": 17,
     "metadata": {},
     "output_type": "execute_result"
    }
   ],
   "source": [
    "new_listings=listings[['id','name','neighbourhood']]\n",
    "new_listings.head()"
   ]
  },
  {
   "cell_type": "code",
   "execution_count": 18,
   "metadata": {},
   "outputs": [
    {
     "data": {
      "text/plain": [
       "'How many listings are in my neighbourhood and where are they?'"
      ]
     },
     "execution_count": 18,
     "metadata": {},
     "output_type": "execute_result"
    }
   ],
   "source": [
    "\"How many listings are in my neighbourhood and where are they?\"  # Done"
   ]
  },
  {
   "cell_type": "code",
   "execution_count": 19,
   "metadata": {},
   "outputs": [
    {
     "data": {
      "text/plain": [
       "array(['Roslindale', nan, 'Jamaica Plain', 'Mission Hill',\n",
       "       'Fenway/Kenmore', 'Back Bay', 'Leather District', 'Chinatown',\n",
       "       'Hyde Park', 'North End', 'Roxbury', 'South End', 'Mattapan',\n",
       "       'East Boston', 'South Boston', 'Charlestown', 'West End',\n",
       "       'Beacon Hill', 'Theater District', 'Downtown Crossing', 'Downtown',\n",
       "       'Financial District', 'Government Center', 'Allston-Brighton',\n",
       "       'West Roxbury', 'Chestnut Hill', 'Dorchester', 'Brookline',\n",
       "       'Cambridge', 'Somerville', 'Harvard Square'], dtype=object)"
      ]
     },
     "execution_count": 19,
     "metadata": {},
     "output_type": "execute_result"
    }
   ],
   "source": [
    "new_listings['neighbourhood'].unique()"
   ]
  },
  {
   "cell_type": "code",
   "execution_count": 20,
   "metadata": {},
   "outputs": [
    {
     "name": "stdout",
     "output_type": "stream",
     "text": [
      "Enter your neighbourhood: East Boston\n",
      "Yes we have your neighbourhood: East Boston\n",
      "     neighbourhood                                               name\n",
      "1541   East Boston                 Furnished Suites with Boston Views\n",
      "1542   East Boston                Zephyr Yacht - Heated and Insulated\n",
      "1544   East Boston                Stay at \"HARBORVIEW\" Walk to subway\n",
      "1547   East Boston  Close to the airport, 5 minutes walk to T Station\n",
      "1549   East Boston                 Sun filled room, minutes to Boston\n"
     ]
    }
   ],
   "source": [
    "n= list(listings.neighbourhood.unique())\n",
    "df_ne= listings[['neighbourhood', 'name']]\n",
    "ne= input(\"Enter your neighbourhood: \")\n",
    "count=0\n",
    "for i in n:\n",
    "    if i==ne:\n",
    "        print(\"Yes we have your neighbourhood: \"+ne)\n",
    "        count=1\n",
    "        print(df_ne.loc[df_ne['neighbourhood'] ==ne].head())\n",
    "if count==0:\n",
    "    print(\"Oops! We don't have your neighbourhood, or maybe spell correctly: \"+ne)"
   ]
  },
  {
   "cell_type": "code",
   "execution_count": null,
   "metadata": {},
   "outputs": [],
   "source": []
  },
  {
   "cell_type": "code",
   "execution_count": 21,
   "metadata": {},
   "outputs": [
    {
     "data": {
      "text/plain": [
       "'How many houses and apartments are being rented out frequently to tourists and not to long-term residents?'"
      ]
     },
     "execution_count": 21,
     "metadata": {},
     "output_type": "execute_result"
    }
   ],
   "source": [
    "\"How many houses and apartments are being rented out frequently to tourists and not to long-term residents?\""
   ]
  },
  {
   "cell_type": "code",
   "execution_count": null,
   "metadata": {},
   "outputs": [],
   "source": []
  },
  {
   "cell_type": "code",
   "execution_count": null,
   "metadata": {},
   "outputs": [],
   "source": []
  },
  {
   "cell_type": "code",
   "execution_count": null,
   "metadata": {},
   "outputs": [],
   "source": []
  },
  {
   "cell_type": "code",
   "execution_count": 22,
   "metadata": {},
   "outputs": [
    {
     "data": {
      "text/plain": [
       "array([  0, 359, 319,  98, 334,  58, 344, 365, 347, 107, 343, 341, 129,\n",
       "       339, 349, 295, 262, 332, 207, 299,   1, 122, 356, 310, 353,  17,\n",
       "       325, 362, 300, 351, 361, 355, 254, 306, 133, 267, 161, 260, 248,\n",
       "       258, 348, 333, 259, 331, 144, 328, 301, 109,  23,  43, 340, 250,\n",
       "       346,  62,  15,  78, 337, 363, 255, 316, 358, 309, 279,  48, 285,\n",
       "       257,  65, 276,  71,  74,   2,  66, 197, 185, 120, 290,  59, 364,\n",
       "       146, 198, 292, 240, 327,  88, 149, 184, 283, 335, 266, 284, 338,\n",
       "       145, 143,  24,  35, 213,  73, 159,  57, 211,   5, 163,   9, 314,\n",
       "        81, 168, 177, 305,  21,   4,  13, 298, 308, 302, 121, 288, 154,\n",
       "       153,  47, 286, 209, 178, 175,  41,  20, 296,  70, 224,  39, 130,\n",
       "       326, 311,  90, 108, 167, 156, 201,   7, 304, 252, 195, 116,  89,\n",
       "       320,  87, 350,  27,  50, 303, 119, 128, 217,  30,  72, 137, 131,\n",
       "       322, 360,  16,  28, 231, 317, 274,  97, 323, 132, 352, 294, 111,\n",
       "        84, 330, 263, 282, 242, 123, 106, 307, 329,  26,   8, 280, 289,\n",
       "       281, 188, 113, 110, 179, 101,  31, 297,  44, 208, 158,  29, 117,\n",
       "       245, 324,  60, 237, 206, 176, 312, 318,   6, 336, 142, 313, 321,\n",
       "        83,  77,  92,  46, 148, 357,  12, 166, 170, 173,  80,  37, 293,\n",
       "        79, 342,  52,  86, 225, 315, 150,  63,   3,  55, 291, 141,  69,\n",
       "       241,  14, 196, 244,  10, 251,  18, 249, 265, 155, 273, 246, 270,\n",
       "       157, 172,  22,  95,  19, 105, 138, 165, 227,  33,  85, 354,  45,\n",
       "       139,  75, 102,  93,  42, 345, 261,  40,  34, 272,  51, 223, 134,\n",
       "       135,  68, 278,  56, 264, 275,  64,  67, 203, 187, 103, 140, 171,\n",
       "       235,  36, 271, 236, 112,  49,  76,  99,  91,  32, 151, 152, 204,\n",
       "       115, 160, 174,  94,  82, 183, 199, 216, 233, 277, 180,  61, 253,\n",
       "       269,  54, 222, 126,  38, 114, 127,  96, 191, 215, 219, 124, 247,\n",
       "       192,  11, 118, 164, 125, 136,  25, 100, 238, 243, 226, 189,  53,\n",
       "       228, 230, 287, 256, 234, 169, 210, 200, 214, 218], dtype=int64)"
      ]
     },
     "execution_count": 22,
     "metadata": {},
     "output_type": "execute_result"
    }
   ],
   "source": [
    "listings.availability_365.unique()"
   ]
  },
  {
   "cell_type": "code",
   "execution_count": 23,
   "metadata": {},
   "outputs": [
    {
     "data": {
      "text/plain": [
       "Index(['id', 'listing_url', 'scrape_id', 'last_scraped', 'name', 'summary',\n",
       "       'space', 'description', 'experiences_offered', 'neighborhood_overview',\n",
       "       'notes', 'transit', 'access', 'interaction', 'house_rules',\n",
       "       'thumbnail_url', 'medium_url', 'picture_url', 'xl_picture_url',\n",
       "       'host_id', 'host_url', 'host_name', 'host_since', 'host_location',\n",
       "       'host_about', 'host_response_time', 'host_response_rate',\n",
       "       'host_acceptance_rate', 'host_is_superhost', 'host_thumbnail_url',\n",
       "       'host_picture_url', 'host_neighbourhood', 'host_listings_count',\n",
       "       'host_total_listings_count', 'host_verifications',\n",
       "       'host_has_profile_pic', 'host_identity_verified', 'street',\n",
       "       'neighbourhood', 'neighbourhood_cleansed',\n",
       "       'neighbourhood_group_cleansed', 'city', 'state', 'zipcode', 'market',\n",
       "       'smart_location', 'country_code', 'country', 'latitude', 'longitude',\n",
       "       'is_location_exact', 'property_type', 'room_type', 'accommodates',\n",
       "       'bathrooms', 'bedrooms', 'beds', 'bed_type', 'amenities', 'square_feet',\n",
       "       'price', 'weekly_price', 'monthly_price', 'security_deposit',\n",
       "       'cleaning_fee', 'guests_included', 'extra_people', 'minimum_nights',\n",
       "       'maximum_nights', 'calendar_updated', 'has_availability',\n",
       "       'availability_30', 'availability_60', 'availability_90',\n",
       "       'availability_365', 'calendar_last_scraped', 'number_of_reviews',\n",
       "       'first_review', 'last_review', 'review_scores_rating',\n",
       "       'review_scores_accuracy', 'review_scores_cleanliness',\n",
       "       'review_scores_checkin', 'review_scores_communication',\n",
       "       'review_scores_location', 'review_scores_value', 'requires_license',\n",
       "       'license', 'jurisdiction_names', 'instant_bookable',\n",
       "       'cancellation_policy', 'require_guest_profile_picture',\n",
       "       'require_guest_phone_verification', 'calculated_host_listings_count',\n",
       "       'reviews_per_month'],\n",
       "      dtype='object')"
      ]
     },
     "execution_count": 23,
     "metadata": {},
     "output_type": "execute_result"
    }
   ],
   "source": [
    "listings.columns"
   ]
  },
  {
   "cell_type": "code",
   "execution_count": 24,
   "metadata": {},
   "outputs": [
    {
     "data": {
      "text/plain": [
       "3585"
      ]
     },
     "execution_count": 24,
     "metadata": {},
     "output_type": "execute_result"
    }
   ],
   "source": [
    "len(listings)"
   ]
  },
  {
   "cell_type": "code",
   "execution_count": null,
   "metadata": {},
   "outputs": [],
   "source": []
  },
  {
   "cell_type": "code",
   "execution_count": null,
   "metadata": {},
   "outputs": [],
   "source": []
  },
  {
   "cell_type": "code",
   "execution_count": 25,
   "metadata": {},
   "outputs": [
    {
     "name": "stdout",
     "output_type": "stream",
     "text": [
      "Listings length: 3585\n",
      "Calendar length: 1308890\n",
      "Reviews length:  68275\n"
     ]
    }
   ],
   "source": [
    "print('Listings length: '+str(len(listings)))\n",
    "print('Calendar length: '+str(len(calendar)))\n",
    "print('Reviews length:  '+str(len(reviews)))"
   ]
  },
  {
   "cell_type": "code",
   "execution_count": 26,
   "metadata": {},
   "outputs": [
    {
     "data": {
      "text/plain": [
       "id                                     0\n",
       "host_identity_verified                 0\n",
       "street                                 0\n",
       "neighbourhood_cleansed                 0\n",
       "state                                  0\n",
       "smart_location                         0\n",
       "country_code                           0\n",
       "calculated_host_listings_count         0\n",
       "latitude                               0\n",
       "longitude                              0\n",
       "is_location_exact                      0\n",
       "room_type                              0\n",
       "accommodates                           0\n",
       "bed_type                               0\n",
       "amenities                              0\n",
       "price                                  0\n",
       "guests_included                        0\n",
       "extra_people                           0\n",
       "require_guest_phone_verification       0\n",
       "require_guest_profile_picture          0\n",
       "cancellation_policy                    0\n",
       "instant_bookable                       0\n",
       "requires_license                       0\n",
       "number_of_reviews                      0\n",
       "host_has_profile_pic                   0\n",
       "calendar_last_scraped                  0\n",
       "availability_90                        0\n",
       "availability_60                        0\n",
       "availability_30                        0\n",
       "calendar_updated                       0\n",
       "maximum_nights                         0\n",
       "minimum_nights                         0\n",
       "availability_365                       0\n",
       "host_verifications                     0\n",
       "country                                0\n",
       "host_listings_count                    0\n",
       "host_total_listings_count              0\n",
       "name                                   0\n",
       "picture_url                            0\n",
       "last_scraped                           0\n",
       "host_id                                0\n",
       "host_url                               0\n",
       "description                            0\n",
       "host_since                             0\n",
       "scrape_id                              0\n",
       "host_name                              0\n",
       "listing_url                            0\n",
       "host_picture_url                       0\n",
       "host_thumbnail_url                     0\n",
       "host_is_superhost                      0\n",
       "experiences_offered                    0\n",
       "city                                   2\n",
       "property_type                          3\n",
       "beds                                   9\n",
       "bedrooms                              10\n",
       "host_location                         11\n",
       "bathrooms                             14\n",
       "market                                14\n",
       "zipcode                               38\n",
       "summary                              143\n",
       "host_neighbourhood                   339\n",
       "host_response_rate                   471\n",
       "host_acceptance_rate                 471\n",
       "host_response_time                   471\n",
       "neighbourhood                        543\n",
       "xl_picture_url                       599\n",
       "medium_url                           599\n",
       "thumbnail_url                        599\n",
       "last_review                          756\n",
       "first_review                         756\n",
       "reviews_per_month                    756\n",
       "review_scores_rating                 813\n",
       "review_scores_communication          818\n",
       "review_scores_cleanliness            818\n",
       "review_scores_checkin                820\n",
       "review_scores_value                  821\n",
       "review_scores_location               822\n",
       "review_scores_accuracy               823\n",
       "space                               1057\n",
       "cleaning_fee                        1107\n",
       "house_rules                         1192\n",
       "transit                             1290\n",
       "host_about                          1309\n",
       "neighborhood_overview               1415\n",
       "access                              1489\n",
       "interaction                         1554\n",
       "notes                               1975\n",
       "security_deposit                    2243\n",
       "weekly_price                        2693\n",
       "monthly_price                       2697\n",
       "square_feet                         3529\n",
       "has_availability                    3585\n",
       "license                             3585\n",
       "jurisdiction_names                  3585\n",
       "neighbourhood_group_cleansed        3585\n",
       "dtype: int64"
      ]
     },
     "execution_count": 26,
     "metadata": {},
     "output_type": "execute_result"
    }
   ],
   "source": [
    "listings.isna().sum().sort_values()"
   ]
  },
  {
   "cell_type": "code",
   "execution_count": 27,
   "metadata": {},
   "outputs": [
    {
     "data": {
      "text/plain": [
       "listing_id        0\n",
       "id                0\n",
       "date              0\n",
       "reviewer_id       0\n",
       "reviewer_name     0\n",
       "comments         53\n",
       "dtype: int64"
      ]
     },
     "execution_count": 27,
     "metadata": {},
     "output_type": "execute_result"
    }
   ],
   "source": [
    "reviews.isna().sum().sort_values()"
   ]
  },
  {
   "cell_type": "code",
   "execution_count": 28,
   "metadata": {},
   "outputs": [
    {
     "data": {
      "text/plain": [
       "license                                0\n",
       "jurisdiction_names                     0\n",
       "neighbourhood_group_cleansed           0\n",
       "has_availability                       0\n",
       "square_feet                           56\n",
       "monthly_price                        888\n",
       "weekly_price                         892\n",
       "security_deposit                    1342\n",
       "notes                               1610\n",
       "interaction                         2031\n",
       "access                              2096\n",
       "neighborhood_overview               2170\n",
       "host_about                          2276\n",
       "transit                             2295\n",
       "house_rules                         2393\n",
       "cleaning_fee                        2478\n",
       "space                               2528\n",
       "review_scores_accuracy              2762\n",
       "review_scores_location              2763\n",
       "review_scores_value                 2764\n",
       "review_scores_checkin               2765\n",
       "review_scores_communication         2767\n",
       "review_scores_cleanliness           2767\n",
       "review_scores_rating                2772\n",
       "reviews_per_month                   2829\n",
       "first_review                        2829\n",
       "last_review                         2829\n",
       "thumbnail_url                       2986\n",
       "xl_picture_url                      2986\n",
       "medium_url                          2986\n",
       "neighbourhood                       3042\n",
       "host_acceptance_rate                3114\n",
       "host_response_rate                  3114\n",
       "host_response_time                  3114\n",
       "host_neighbourhood                  3246\n",
       "summary                             3442\n",
       "zipcode                             3547\n",
       "market                              3571\n",
       "bathrooms                           3571\n",
       "host_location                       3574\n",
       "bedrooms                            3575\n",
       "beds                                3576\n",
       "property_type                       3582\n",
       "city                                3583\n",
       "requires_license                    3585\n",
       "require_guest_phone_verification    3585\n",
       "number_of_reviews                   3585\n",
       "require_guest_profile_picture       3585\n",
       "cancellation_policy                 3585\n",
       "guests_included                     3585\n",
       "extra_people                        3585\n",
       "minimum_nights                      3585\n",
       "maximum_nights                      3585\n",
       "calendar_last_scraped               3585\n",
       "instant_bookable                    3585\n",
       "availability_365                    3585\n",
       "availability_90                     3585\n",
       "availability_30                     3585\n",
       "availability_60                     3585\n",
       "calendar_updated                    3585\n",
       "id                                  3585\n",
       "amenities                           3585\n",
       "listing_url                         3585\n",
       "scrape_id                           3585\n",
       "last_scraped                        3585\n",
       "name                                3585\n",
       "description                         3585\n",
       "experiences_offered                 3585\n",
       "picture_url                         3585\n",
       "host_id                             3585\n",
       "host_url                            3585\n",
       "host_name                           3585\n",
       "host_since                          3585\n",
       "host_is_superhost                   3585\n",
       "host_thumbnail_url                  3585\n",
       "host_picture_url                    3585\n",
       "host_listings_count                 3585\n",
       "host_total_listings_count           3585\n",
       "host_verifications                  3585\n",
       "bed_type                            3585\n",
       "accommodates                        3585\n",
       "room_type                           3585\n",
       "is_location_exact                   3585\n",
       "longitude                           3585\n",
       "latitude                            3585\n",
       "price                               3585\n",
       "calculated_host_listings_count      3585\n",
       "smart_location                      3585\n",
       "state                               3585\n",
       "neighbourhood_cleansed              3585\n",
       "street                              3585\n",
       "host_identity_verified              3585\n",
       "host_has_profile_pic                3585\n",
       "country_code                        3585\n",
       "country                             3585\n",
       "dtype: int64"
      ]
     },
     "execution_count": 28,
     "metadata": {},
     "output_type": "execute_result"
    }
   ],
   "source": [
    "listings.count().sort_values()"
   ]
  },
  {
   "cell_type": "code",
   "execution_count": 29,
   "metadata": {},
   "outputs": [
    {
     "data": {
      "text/plain": [
       "Index(['id', 'listing_url', 'scrape_id', 'last_scraped', 'name', 'summary',\n",
       "       'space', 'description', 'experiences_offered', 'neighborhood_overview',\n",
       "       'notes', 'transit', 'access', 'interaction', 'house_rules',\n",
       "       'thumbnail_url', 'medium_url', 'picture_url', 'xl_picture_url',\n",
       "       'host_id', 'host_url', 'host_name', 'host_since', 'host_location',\n",
       "       'host_about', 'host_response_time', 'host_response_rate',\n",
       "       'host_acceptance_rate', 'host_is_superhost', 'host_thumbnail_url',\n",
       "       'host_picture_url', 'host_neighbourhood', 'host_listings_count',\n",
       "       'host_total_listings_count', 'host_verifications',\n",
       "       'host_has_profile_pic', 'host_identity_verified', 'street',\n",
       "       'neighbourhood', 'neighbourhood_cleansed',\n",
       "       'neighbourhood_group_cleansed', 'city', 'state', 'zipcode', 'market',\n",
       "       'smart_location', 'country_code', 'country', 'latitude', 'longitude',\n",
       "       'is_location_exact', 'property_type', 'room_type', 'accommodates',\n",
       "       'bathrooms', 'bedrooms', 'beds', 'bed_type', 'amenities', 'square_feet',\n",
       "       'price', 'weekly_price', 'monthly_price', 'security_deposit',\n",
       "       'cleaning_fee', 'guests_included', 'extra_people', 'minimum_nights',\n",
       "       'maximum_nights', 'calendar_updated', 'has_availability',\n",
       "       'availability_30', 'availability_60', 'availability_90',\n",
       "       'availability_365', 'calendar_last_scraped', 'number_of_reviews',\n",
       "       'first_review', 'last_review', 'review_scores_rating',\n",
       "       'review_scores_accuracy', 'review_scores_cleanliness',\n",
       "       'review_scores_checkin', 'review_scores_communication',\n",
       "       'review_scores_location', 'review_scores_value', 'requires_license',\n",
       "       'license', 'jurisdiction_names', 'instant_bookable',\n",
       "       'cancellation_policy', 'require_guest_profile_picture',\n",
       "       'require_guest_phone_verification', 'calculated_host_listings_count',\n",
       "       'reviews_per_month'],\n",
       "      dtype='object')"
      ]
     },
     "execution_count": 29,
     "metadata": {},
     "output_type": "execute_result"
    }
   ],
   "source": [
    "listings.columns"
   ]
  },
  {
   "cell_type": "code",
   "execution_count": null,
   "metadata": {},
   "outputs": [],
   "source": []
  },
  {
   "cell_type": "code",
   "execution_count": null,
   "metadata": {},
   "outputs": [],
   "source": []
  },
  {
   "cell_type": "code",
   "execution_count": null,
   "metadata": {
    "scrolled": true
   },
   "outputs": [],
   "source": []
  },
  {
   "cell_type": "code",
   "execution_count": null,
   "metadata": {},
   "outputs": [],
   "source": []
  },
  {
   "cell_type": "code",
   "execution_count": null,
   "metadata": {
    "scrolled": false
   },
   "outputs": [],
   "source": []
  },
  {
   "cell_type": "code",
   "execution_count": null,
   "metadata": {},
   "outputs": [],
   "source": []
  },
  {
   "cell_type": "code",
   "execution_count": null,
   "metadata": {
    "scrolled": false
   },
   "outputs": [],
   "source": []
  },
  {
   "cell_type": "code",
   "execution_count": null,
   "metadata": {},
   "outputs": [],
   "source": []
  },
  {
   "cell_type": "code",
   "execution_count": null,
   "metadata": {},
   "outputs": [],
   "source": []
  },
  {
   "cell_type": "code",
   "execution_count": null,
   "metadata": {},
   "outputs": [],
   "source": []
  },
  {
   "cell_type": "code",
   "execution_count": null,
   "metadata": {},
   "outputs": [],
   "source": []
  },
  {
   "cell_type": "code",
   "execution_count": null,
   "metadata": {},
   "outputs": [],
   "source": []
  },
  {
   "cell_type": "code",
   "execution_count": null,
   "metadata": {},
   "outputs": [],
   "source": []
  },
  {
   "cell_type": "code",
   "execution_count": 30,
   "metadata": {},
   "outputs": [],
   "source": [
    "#listings.has_availability.unique()     \n",
    "#we must drop it all are none here in this column\n",
    "# listings.availability_30.unique()"
   ]
  },
  {
   "cell_type": "code",
   "execution_count": 31,
   "metadata": {
    "scrolled": true
   },
   "outputs": [],
   "source": [
    "#Location of the host\n",
    "#listings.host_location.unique()"
   ]
  },
  {
   "cell_type": "code",
   "execution_count": 32,
   "metadata": {},
   "outputs": [
    {
     "data": {
      "text/plain": [
       "array(['Roslindale', nan, 'Jamaica Plain', 'Hyde Park', 'South Beach',\n",
       "       'Benton Park', 'Back Bay', 'Mission Hill', 'Cambridge',\n",
       "       'Fenway/Kenmore', 'Beacon Hill', 'West End', 'North End',\n",
       "       'Allston-Brighton', 'Upper East Side', 'Theater District',\n",
       "       'Leather District', 'Gay Village', 'Somerville', 'Chinatown',\n",
       "       'Santa Cruz', 'Central Business District', 'South Boston',\n",
       "       'Financial District', 'Medford', 'Downtown Crossing', 'Downtown',\n",
       "       'Roxbury', 'South End', 'Dorchester', 'Mattapan',\n",
       "       'Coolidge Corner', 'Los Altos Hills', 'Harvard Square',\n",
       "       'East Boston', 'Malden', 'Charlestown', 'Newton', 'Chelsea',\n",
       "       'Bernal Heights', 'Government Center', 'Sunnyvale', 'Brookline',\n",
       "       'Midtown East', 'East Harlem', 'West Roxbury', 'Chestnut Hill',\n",
       "       'South of Nevsky', 'Winthrop', 'Flatiron District', 'Belváros',\n",
       "       'Miami Beach', 'Coral Way', 'Mission District'], dtype=object)"
      ]
     },
     "execution_count": 32,
     "metadata": {},
     "output_type": "execute_result"
    }
   ],
   "source": [
    "listings.host_neighbourhood.unique()"
   ]
  },
  {
   "cell_type": "code",
   "execution_count": 33,
   "metadata": {},
   "outputs": [
    {
     "data": {
      "text/plain": [
       "array(['Birch Street, Boston, MA 02131, United States',\n",
       "       'Pinehurst Street, Boston, MA 02131, United States',\n",
       "       'Ardale St., Boston, MA 02131, United States', ...,\n",
       "       'Freeman Street, Brookline, MA 02446, United States',\n",
       "       'Child Street, Cambridge, MA 02141, United States',\n",
       "       'George St Somerville, Somerville, MA 02145, United States'],\n",
       "      dtype=object)"
      ]
     },
     "execution_count": 33,
     "metadata": {},
     "output_type": "execute_result"
    }
   ],
   "source": [
    "listings.street.unique()"
   ]
  },
  {
   "cell_type": "code",
   "execution_count": 34,
   "metadata": {},
   "outputs": [
    {
     "data": {
      "text/plain": [
       "array(['Roslindale', nan, 'Jamaica Plain', 'Mission Hill',\n",
       "       'Fenway/Kenmore', 'Back Bay', 'Leather District', 'Chinatown',\n",
       "       'Hyde Park', 'North End', 'Roxbury', 'South End', 'Mattapan',\n",
       "       'East Boston', 'South Boston', 'Charlestown', 'West End',\n",
       "       'Beacon Hill', 'Theater District', 'Downtown Crossing', 'Downtown',\n",
       "       'Financial District', 'Government Center', 'Allston-Brighton',\n",
       "       'West Roxbury', 'Chestnut Hill', 'Dorchester', 'Brookline',\n",
       "       'Cambridge', 'Somerville', 'Harvard Square'], dtype=object)"
      ]
     },
     "execution_count": 34,
     "metadata": {},
     "output_type": "execute_result"
    }
   ],
   "source": [
    "n= listings.neighbourhood.unique()\n",
    "n"
   ]
  },
  {
   "cell_type": "code",
   "execution_count": 35,
   "metadata": {},
   "outputs": [
    {
     "data": {
      "text/plain": [
       "array(['Boston', 'Roslindale', 'Roslindale, Boston', 'Jamaica Plain',\n",
       "       'Brookline', 'Jamaica Plain, Boston', 'Jamaica Plain (Boston)',\n",
       "       'Roxbury Crossing', 'Jamaica Plain ', 'Jamaica Plain, MA',\n",
       "       'Boston (Jamaica Plain)', 'Jamaica plain ', 'ROXBURY CROSSING',\n",
       "       'Mission Hill, Boston', 'boston', '波士顿',\n",
       "       'Boston, Massachusetts, US', 'South End, Boston', 'Cambridge',\n",
       "       'East Boston', 'east Boston ', 'Charlestown',\n",
       "       'Boston (Charlestown)', 'Somerville', 'Watertown', 'Brighton',\n",
       "       'Brighton ', 'Boston ', nan, 'West Roxbury', 'Newton', 'Hyde Park',\n",
       "       'Mattapan', 'Milton', 'Dorchester', 'dorchester, boston ',\n",
       "       'South Boston', 'Allston', 'ALLSTON'], dtype=object)"
      ]
     },
     "execution_count": 35,
     "metadata": {},
     "output_type": "execute_result"
    }
   ],
   "source": [
    "listings.city.unique()\n",
    "#'city', 'state', 'zipcode'"
   ]
  },
  {
   "cell_type": "code",
   "execution_count": 36,
   "metadata": {},
   "outputs": [
    {
     "data": {
      "text/plain": [
       "array(['MA'], dtype=object)"
      ]
     },
     "execution_count": 36,
     "metadata": {},
     "output_type": "execute_result"
    }
   ],
   "source": [
    "listings.state.unique()\n",
    "#state\n",
    "#'latitude', 'longitude'"
   ]
  },
  {
   "cell_type": "code",
   "execution_count": 37,
   "metadata": {},
   "outputs": [
    {
     "data": {
      "text/plain": [
       "array(['02131', nan, '02130', '02119', '02120', '02115', '02215', '02116',\n",
       "       '02111', '02109', '02113', '02110', '02114', '02108', '02121',\n",
       "       '02118', '02125', '02124', '02210', '02218', '02142', '02128',\n",
       "       '02129', '02145', '02126', '02108 02111', '02472', '02122',\n",
       "       '02446', '02135', '02134', '02445', '02132', '02467', '02136',\n",
       "       '02186', '02169', '02127', '02134-1704', '02163', '02138', '02139',\n",
       "       '02141', '02143'], dtype=object)"
      ]
     },
     "execution_count": 37,
     "metadata": {},
     "output_type": "execute_result"
    }
   ],
   "source": [
    "listings.zipcode.unique()"
   ]
  },
  {
   "cell_type": "code",
   "execution_count": 38,
   "metadata": {},
   "outputs": [
    {
     "data": {
      "text/plain": [
       "'\\n•\\t\"How many houses and apartments are being rented out frequently to tourists and not to long-term residents?\"\\n'"
      ]
     },
     "execution_count": 38,
     "metadata": {},
     "output_type": "execute_result"
    }
   ],
   "source": [
    "'''\n",
    "•\t\"How many houses and apartments are being rented out frequently to tourists and not to long-term residents?\"\n",
    "'''"
   ]
  },
  {
   "cell_type": "code",
   "execution_count": 39,
   "metadata": {},
   "outputs": [
    {
     "data": {
      "text/plain": [
       "14775"
      ]
     },
     "execution_count": 39,
     "metadata": {},
     "output_type": "execute_result"
    }
   ],
   "source": [
    "len(reviews.reviewer_name.unique())"
   ]
  },
  {
   "cell_type": "code",
   "execution_count": 40,
   "metadata": {
    "scrolled": true
   },
   "outputs": [
    {
     "data": {
      "text/html": [
       "<div>\n",
       "<style scoped>\n",
       "    .dataframe tbody tr th:only-of-type {\n",
       "        vertical-align: middle;\n",
       "    }\n",
       "\n",
       "    .dataframe tbody tr th {\n",
       "        vertical-align: top;\n",
       "    }\n",
       "\n",
       "    .dataframe thead th {\n",
       "        text-align: right;\n",
       "    }\n",
       "</style>\n",
       "<table border=\"1\" class=\"dataframe\">\n",
       "  <thead>\n",
       "    <tr style=\"text-align: right;\">\n",
       "      <th></th>\n",
       "      <th>id</th>\n",
       "      <th>scrape_id</th>\n",
       "      <th>host_id</th>\n",
       "      <th>host_listings_count</th>\n",
       "      <th>host_total_listings_count</th>\n",
       "      <th>neighbourhood_group_cleansed</th>\n",
       "      <th>latitude</th>\n",
       "      <th>longitude</th>\n",
       "      <th>accommodates</th>\n",
       "      <th>bathrooms</th>\n",
       "      <th>bedrooms</th>\n",
       "      <th>beds</th>\n",
       "      <th>square_feet</th>\n",
       "      <th>guests_included</th>\n",
       "      <th>minimum_nights</th>\n",
       "      <th>maximum_nights</th>\n",
       "      <th>has_availability</th>\n",
       "      <th>availability_30</th>\n",
       "      <th>availability_60</th>\n",
       "      <th>availability_90</th>\n",
       "      <th>availability_365</th>\n",
       "      <th>number_of_reviews</th>\n",
       "      <th>review_scores_rating</th>\n",
       "      <th>review_scores_accuracy</th>\n",
       "      <th>review_scores_cleanliness</th>\n",
       "      <th>review_scores_checkin</th>\n",
       "      <th>review_scores_communication</th>\n",
       "      <th>review_scores_location</th>\n",
       "      <th>review_scores_value</th>\n",
       "      <th>license</th>\n",
       "      <th>jurisdiction_names</th>\n",
       "      <th>calculated_host_listings_count</th>\n",
       "      <th>reviews_per_month</th>\n",
       "    </tr>\n",
       "  </thead>\n",
       "  <tbody>\n",
       "    <tr>\n",
       "      <th>count</th>\n",
       "      <td>3.585000e+03</td>\n",
       "      <td>3.585000e+03</td>\n",
       "      <td>3.585000e+03</td>\n",
       "      <td>3585.000000</td>\n",
       "      <td>3585.000000</td>\n",
       "      <td>0.0</td>\n",
       "      <td>3585.000000</td>\n",
       "      <td>3585.000000</td>\n",
       "      <td>3585.000000</td>\n",
       "      <td>3571.000000</td>\n",
       "      <td>3575.000000</td>\n",
       "      <td>3576.000000</td>\n",
       "      <td>56.000000</td>\n",
       "      <td>3585.000000</td>\n",
       "      <td>3585.000000</td>\n",
       "      <td>3.585000e+03</td>\n",
       "      <td>0.0</td>\n",
       "      <td>3585.00000</td>\n",
       "      <td>3585.000000</td>\n",
       "      <td>3585.000000</td>\n",
       "      <td>3585.000000</td>\n",
       "      <td>3585.000000</td>\n",
       "      <td>2772.000000</td>\n",
       "      <td>2762.000000</td>\n",
       "      <td>2767.000000</td>\n",
       "      <td>2765.000000</td>\n",
       "      <td>2767.000000</td>\n",
       "      <td>2763.000000</td>\n",
       "      <td>2764.000000</td>\n",
       "      <td>0.0</td>\n",
       "      <td>0.0</td>\n",
       "      <td>3585.000000</td>\n",
       "      <td>2829.000000</td>\n",
       "    </tr>\n",
       "    <tr>\n",
       "      <th>mean</th>\n",
       "      <td>8.440875e+06</td>\n",
       "      <td>2.016091e+13</td>\n",
       "      <td>2.492311e+07</td>\n",
       "      <td>58.902371</td>\n",
       "      <td>58.902371</td>\n",
       "      <td>NaN</td>\n",
       "      <td>42.340032</td>\n",
       "      <td>-71.084818</td>\n",
       "      <td>3.041283</td>\n",
       "      <td>1.221647</td>\n",
       "      <td>1.255944</td>\n",
       "      <td>1.609060</td>\n",
       "      <td>858.464286</td>\n",
       "      <td>1.429847</td>\n",
       "      <td>3.171269</td>\n",
       "      <td>2.872584e+04</td>\n",
       "      <td>NaN</td>\n",
       "      <td>8.64993</td>\n",
       "      <td>21.833194</td>\n",
       "      <td>38.558159</td>\n",
       "      <td>179.346444</td>\n",
       "      <td>19.044630</td>\n",
       "      <td>91.916667</td>\n",
       "      <td>9.431571</td>\n",
       "      <td>9.258041</td>\n",
       "      <td>9.646293</td>\n",
       "      <td>9.646549</td>\n",
       "      <td>9.414043</td>\n",
       "      <td>9.168234</td>\n",
       "      <td>NaN</td>\n",
       "      <td>NaN</td>\n",
       "      <td>12.733891</td>\n",
       "      <td>1.970908</td>\n",
       "    </tr>\n",
       "    <tr>\n",
       "      <th>std</th>\n",
       "      <td>4.500787e+06</td>\n",
       "      <td>8.516813e-01</td>\n",
       "      <td>2.292781e+07</td>\n",
       "      <td>171.119663</td>\n",
       "      <td>171.119663</td>\n",
       "      <td>NaN</td>\n",
       "      <td>0.024403</td>\n",
       "      <td>0.031565</td>\n",
       "      <td>1.778929</td>\n",
       "      <td>0.501487</td>\n",
       "      <td>0.753060</td>\n",
       "      <td>1.011745</td>\n",
       "      <td>608.874310</td>\n",
       "      <td>1.056787</td>\n",
       "      <td>8.874133</td>\n",
       "      <td>1.670136e+06</td>\n",
       "      <td>NaN</td>\n",
       "      <td>10.43533</td>\n",
       "      <td>21.860966</td>\n",
       "      <td>33.158272</td>\n",
       "      <td>142.136180</td>\n",
       "      <td>35.571658</td>\n",
       "      <td>9.531686</td>\n",
       "      <td>0.931863</td>\n",
       "      <td>1.168977</td>\n",
       "      <td>0.762753</td>\n",
       "      <td>0.735507</td>\n",
       "      <td>0.903436</td>\n",
       "      <td>1.011116</td>\n",
       "      <td>NaN</td>\n",
       "      <td>NaN</td>\n",
       "      <td>29.415076</td>\n",
       "      <td>2.120561</td>\n",
       "    </tr>\n",
       "    <tr>\n",
       "      <th>min</th>\n",
       "      <td>3.353000e+03</td>\n",
       "      <td>2.016091e+13</td>\n",
       "      <td>4.240000e+03</td>\n",
       "      <td>0.000000</td>\n",
       "      <td>0.000000</td>\n",
       "      <td>NaN</td>\n",
       "      <td>42.235942</td>\n",
       "      <td>-71.171789</td>\n",
       "      <td>1.000000</td>\n",
       "      <td>0.000000</td>\n",
       "      <td>0.000000</td>\n",
       "      <td>0.000000</td>\n",
       "      <td>0.000000</td>\n",
       "      <td>0.000000</td>\n",
       "      <td>1.000000</td>\n",
       "      <td>1.000000e+00</td>\n",
       "      <td>NaN</td>\n",
       "      <td>0.00000</td>\n",
       "      <td>0.000000</td>\n",
       "      <td>0.000000</td>\n",
       "      <td>0.000000</td>\n",
       "      <td>0.000000</td>\n",
       "      <td>20.000000</td>\n",
       "      <td>2.000000</td>\n",
       "      <td>2.000000</td>\n",
       "      <td>2.000000</td>\n",
       "      <td>4.000000</td>\n",
       "      <td>2.000000</td>\n",
       "      <td>2.000000</td>\n",
       "      <td>NaN</td>\n",
       "      <td>NaN</td>\n",
       "      <td>1.000000</td>\n",
       "      <td>0.010000</td>\n",
       "    </tr>\n",
       "    <tr>\n",
       "      <th>25%</th>\n",
       "      <td>4.679319e+06</td>\n",
       "      <td>2.016091e+13</td>\n",
       "      <td>6.103425e+06</td>\n",
       "      <td>1.000000</td>\n",
       "      <td>1.000000</td>\n",
       "      <td>NaN</td>\n",
       "      <td>42.329995</td>\n",
       "      <td>-71.105083</td>\n",
       "      <td>2.000000</td>\n",
       "      <td>1.000000</td>\n",
       "      <td>1.000000</td>\n",
       "      <td>1.000000</td>\n",
       "      <td>415.000000</td>\n",
       "      <td>1.000000</td>\n",
       "      <td>1.000000</td>\n",
       "      <td>3.650000e+02</td>\n",
       "      <td>NaN</td>\n",
       "      <td>0.00000</td>\n",
       "      <td>0.000000</td>\n",
       "      <td>0.000000</td>\n",
       "      <td>19.000000</td>\n",
       "      <td>1.000000</td>\n",
       "      <td>89.000000</td>\n",
       "      <td>9.000000</td>\n",
       "      <td>9.000000</td>\n",
       "      <td>9.000000</td>\n",
       "      <td>9.000000</td>\n",
       "      <td>9.000000</td>\n",
       "      <td>9.000000</td>\n",
       "      <td>NaN</td>\n",
       "      <td>NaN</td>\n",
       "      <td>1.000000</td>\n",
       "      <td>0.480000</td>\n",
       "    </tr>\n",
       "    <tr>\n",
       "      <th>50%</th>\n",
       "      <td>8.577620e+06</td>\n",
       "      <td>2.016091e+13</td>\n",
       "      <td>1.928100e+07</td>\n",
       "      <td>2.000000</td>\n",
       "      <td>2.000000</td>\n",
       "      <td>NaN</td>\n",
       "      <td>42.345201</td>\n",
       "      <td>-71.078429</td>\n",
       "      <td>2.000000</td>\n",
       "      <td>1.000000</td>\n",
       "      <td>1.000000</td>\n",
       "      <td>1.000000</td>\n",
       "      <td>825.000000</td>\n",
       "      <td>1.000000</td>\n",
       "      <td>2.000000</td>\n",
       "      <td>1.125000e+03</td>\n",
       "      <td>NaN</td>\n",
       "      <td>4.00000</td>\n",
       "      <td>16.000000</td>\n",
       "      <td>37.000000</td>\n",
       "      <td>179.000000</td>\n",
       "      <td>5.000000</td>\n",
       "      <td>94.000000</td>\n",
       "      <td>10.000000</td>\n",
       "      <td>10.000000</td>\n",
       "      <td>10.000000</td>\n",
       "      <td>10.000000</td>\n",
       "      <td>10.000000</td>\n",
       "      <td>9.000000</td>\n",
       "      <td>NaN</td>\n",
       "      <td>NaN</td>\n",
       "      <td>2.000000</td>\n",
       "      <td>1.170000</td>\n",
       "    </tr>\n",
       "    <tr>\n",
       "      <th>75%</th>\n",
       "      <td>1.278953e+07</td>\n",
       "      <td>2.016091e+13</td>\n",
       "      <td>3.622147e+07</td>\n",
       "      <td>7.000000</td>\n",
       "      <td>7.000000</td>\n",
       "      <td>NaN</td>\n",
       "      <td>42.354685</td>\n",
       "      <td>-71.062155</td>\n",
       "      <td>4.000000</td>\n",
       "      <td>1.000000</td>\n",
       "      <td>2.000000</td>\n",
       "      <td>2.000000</td>\n",
       "      <td>1200.000000</td>\n",
       "      <td>1.000000</td>\n",
       "      <td>3.000000</td>\n",
       "      <td>1.125000e+03</td>\n",
       "      <td>NaN</td>\n",
       "      <td>15.00000</td>\n",
       "      <td>40.000000</td>\n",
       "      <td>68.000000</td>\n",
       "      <td>325.000000</td>\n",
       "      <td>21.000000</td>\n",
       "      <td>98.250000</td>\n",
       "      <td>10.000000</td>\n",
       "      <td>10.000000</td>\n",
       "      <td>10.000000</td>\n",
       "      <td>10.000000</td>\n",
       "      <td>10.000000</td>\n",
       "      <td>10.000000</td>\n",
       "      <td>NaN</td>\n",
       "      <td>NaN</td>\n",
       "      <td>6.000000</td>\n",
       "      <td>2.720000</td>\n",
       "    </tr>\n",
       "    <tr>\n",
       "      <th>max</th>\n",
       "      <td>1.493346e+07</td>\n",
       "      <td>2.016091e+13</td>\n",
       "      <td>9.385411e+07</td>\n",
       "      <td>749.000000</td>\n",
       "      <td>749.000000</td>\n",
       "      <td>NaN</td>\n",
       "      <td>42.389982</td>\n",
       "      <td>-71.000100</td>\n",
       "      <td>16.000000</td>\n",
       "      <td>6.000000</td>\n",
       "      <td>5.000000</td>\n",
       "      <td>16.000000</td>\n",
       "      <td>2400.000000</td>\n",
       "      <td>14.000000</td>\n",
       "      <td>300.000000</td>\n",
       "      <td>1.000000e+08</td>\n",
       "      <td>NaN</td>\n",
       "      <td>30.00000</td>\n",
       "      <td>60.000000</td>\n",
       "      <td>90.000000</td>\n",
       "      <td>365.000000</td>\n",
       "      <td>404.000000</td>\n",
       "      <td>100.000000</td>\n",
       "      <td>10.000000</td>\n",
       "      <td>10.000000</td>\n",
       "      <td>10.000000</td>\n",
       "      <td>10.000000</td>\n",
       "      <td>10.000000</td>\n",
       "      <td>10.000000</td>\n",
       "      <td>NaN</td>\n",
       "      <td>NaN</td>\n",
       "      <td>136.000000</td>\n",
       "      <td>19.150000</td>\n",
       "    </tr>\n",
       "  </tbody>\n",
       "</table>\n",
       "</div>"
      ],
      "text/plain": [
       "                 id     scrape_id       host_id  host_listings_count  \\\n",
       "count  3.585000e+03  3.585000e+03  3.585000e+03          3585.000000   \n",
       "mean   8.440875e+06  2.016091e+13  2.492311e+07            58.902371   \n",
       "std    4.500787e+06  8.516813e-01  2.292781e+07           171.119663   \n",
       "min    3.353000e+03  2.016091e+13  4.240000e+03             0.000000   \n",
       "25%    4.679319e+06  2.016091e+13  6.103425e+06             1.000000   \n",
       "50%    8.577620e+06  2.016091e+13  1.928100e+07             2.000000   \n",
       "75%    1.278953e+07  2.016091e+13  3.622147e+07             7.000000   \n",
       "max    1.493346e+07  2.016091e+13  9.385411e+07           749.000000   \n",
       "\n",
       "       host_total_listings_count  neighbourhood_group_cleansed     latitude  \\\n",
       "count                3585.000000                           0.0  3585.000000   \n",
       "mean                   58.902371                           NaN    42.340032   \n",
       "std                   171.119663                           NaN     0.024403   \n",
       "min                     0.000000                           NaN    42.235942   \n",
       "25%                     1.000000                           NaN    42.329995   \n",
       "50%                     2.000000                           NaN    42.345201   \n",
       "75%                     7.000000                           NaN    42.354685   \n",
       "max                   749.000000                           NaN    42.389982   \n",
       "\n",
       "         longitude  accommodates    bathrooms     bedrooms         beds  \\\n",
       "count  3585.000000   3585.000000  3571.000000  3575.000000  3576.000000   \n",
       "mean    -71.084818      3.041283     1.221647     1.255944     1.609060   \n",
       "std       0.031565      1.778929     0.501487     0.753060     1.011745   \n",
       "min     -71.171789      1.000000     0.000000     0.000000     0.000000   \n",
       "25%     -71.105083      2.000000     1.000000     1.000000     1.000000   \n",
       "50%     -71.078429      2.000000     1.000000     1.000000     1.000000   \n",
       "75%     -71.062155      4.000000     1.000000     2.000000     2.000000   \n",
       "max     -71.000100     16.000000     6.000000     5.000000    16.000000   \n",
       "\n",
       "       square_feet  guests_included  minimum_nights  maximum_nights  \\\n",
       "count    56.000000      3585.000000     3585.000000    3.585000e+03   \n",
       "mean    858.464286         1.429847        3.171269    2.872584e+04   \n",
       "std     608.874310         1.056787        8.874133    1.670136e+06   \n",
       "min       0.000000         0.000000        1.000000    1.000000e+00   \n",
       "25%     415.000000         1.000000        1.000000    3.650000e+02   \n",
       "50%     825.000000         1.000000        2.000000    1.125000e+03   \n",
       "75%    1200.000000         1.000000        3.000000    1.125000e+03   \n",
       "max    2400.000000        14.000000      300.000000    1.000000e+08   \n",
       "\n",
       "       has_availability  availability_30  availability_60  availability_90  \\\n",
       "count               0.0       3585.00000      3585.000000      3585.000000   \n",
       "mean                NaN          8.64993        21.833194        38.558159   \n",
       "std                 NaN         10.43533        21.860966        33.158272   \n",
       "min                 NaN          0.00000         0.000000         0.000000   \n",
       "25%                 NaN          0.00000         0.000000         0.000000   \n",
       "50%                 NaN          4.00000        16.000000        37.000000   \n",
       "75%                 NaN         15.00000        40.000000        68.000000   \n",
       "max                 NaN         30.00000        60.000000        90.000000   \n",
       "\n",
       "       availability_365  number_of_reviews  review_scores_rating  \\\n",
       "count       3585.000000        3585.000000           2772.000000   \n",
       "mean         179.346444          19.044630             91.916667   \n",
       "std          142.136180          35.571658              9.531686   \n",
       "min            0.000000           0.000000             20.000000   \n",
       "25%           19.000000           1.000000             89.000000   \n",
       "50%          179.000000           5.000000             94.000000   \n",
       "75%          325.000000          21.000000             98.250000   \n",
       "max          365.000000         404.000000            100.000000   \n",
       "\n",
       "       review_scores_accuracy  review_scores_cleanliness  \\\n",
       "count             2762.000000                2767.000000   \n",
       "mean                 9.431571                   9.258041   \n",
       "std                  0.931863                   1.168977   \n",
       "min                  2.000000                   2.000000   \n",
       "25%                  9.000000                   9.000000   \n",
       "50%                 10.000000                  10.000000   \n",
       "75%                 10.000000                  10.000000   \n",
       "max                 10.000000                  10.000000   \n",
       "\n",
       "       review_scores_checkin  review_scores_communication  \\\n",
       "count            2765.000000                  2767.000000   \n",
       "mean                9.646293                     9.646549   \n",
       "std                 0.762753                     0.735507   \n",
       "min                 2.000000                     4.000000   \n",
       "25%                 9.000000                     9.000000   \n",
       "50%                10.000000                    10.000000   \n",
       "75%                10.000000                    10.000000   \n",
       "max                10.000000                    10.000000   \n",
       "\n",
       "       review_scores_location  review_scores_value  license  \\\n",
       "count             2763.000000          2764.000000      0.0   \n",
       "mean                 9.414043             9.168234      NaN   \n",
       "std                  0.903436             1.011116      NaN   \n",
       "min                  2.000000             2.000000      NaN   \n",
       "25%                  9.000000             9.000000      NaN   \n",
       "50%                 10.000000             9.000000      NaN   \n",
       "75%                 10.000000            10.000000      NaN   \n",
       "max                 10.000000            10.000000      NaN   \n",
       "\n",
       "       jurisdiction_names  calculated_host_listings_count  reviews_per_month  \n",
       "count                 0.0                     3585.000000        2829.000000  \n",
       "mean                  NaN                       12.733891           1.970908  \n",
       "std                   NaN                       29.415076           2.120561  \n",
       "min                   NaN                        1.000000           0.010000  \n",
       "25%                   NaN                        1.000000           0.480000  \n",
       "50%                   NaN                        2.000000           1.170000  \n",
       "75%                   NaN                        6.000000           2.720000  \n",
       "max                   NaN                      136.000000          19.150000  "
      ]
     },
     "execution_count": 40,
     "metadata": {},
     "output_type": "execute_result"
    }
   ],
   "source": [
    "listings.describe()"
   ]
  },
  {
   "cell_type": "code",
   "execution_count": 41,
   "metadata": {},
   "outputs": [
    {
     "data": {
      "text/plain": [
       "Index(['id', 'listing_url', 'scrape_id', 'last_scraped', 'name', 'summary',\n",
       "       'space', 'description', 'experiences_offered', 'neighborhood_overview',\n",
       "       'notes', 'transit', 'access', 'interaction', 'house_rules',\n",
       "       'thumbnail_url', 'medium_url', 'picture_url', 'xl_picture_url',\n",
       "       'host_id', 'host_url', 'host_name', 'host_since', 'host_location',\n",
       "       'host_about', 'host_response_time', 'host_response_rate',\n",
       "       'host_acceptance_rate', 'host_is_superhost', 'host_thumbnail_url',\n",
       "       'host_picture_url', 'host_neighbourhood', 'host_listings_count',\n",
       "       'host_total_listings_count', 'host_verifications',\n",
       "       'host_has_profile_pic', 'host_identity_verified', 'street',\n",
       "       'neighbourhood', 'neighbourhood_cleansed',\n",
       "       'neighbourhood_group_cleansed', 'city', 'state', 'zipcode', 'market',\n",
       "       'smart_location', 'country_code', 'country', 'latitude', 'longitude',\n",
       "       'is_location_exact', 'property_type', 'room_type', 'accommodates',\n",
       "       'bathrooms', 'bedrooms', 'beds', 'bed_type', 'amenities', 'square_feet',\n",
       "       'price', 'weekly_price', 'monthly_price', 'security_deposit',\n",
       "       'cleaning_fee', 'guests_included', 'extra_people', 'minimum_nights',\n",
       "       'maximum_nights', 'calendar_updated', 'has_availability',\n",
       "       'availability_30', 'availability_60', 'availability_90',\n",
       "       'availability_365', 'calendar_last_scraped', 'number_of_reviews',\n",
       "       'first_review', 'last_review', 'review_scores_rating',\n",
       "       'review_scores_accuracy', 'review_scores_cleanliness',\n",
       "       'review_scores_checkin', 'review_scores_communication',\n",
       "       'review_scores_location', 'review_scores_value', 'requires_license',\n",
       "       'license', 'jurisdiction_names', 'instant_bookable',\n",
       "       'cancellation_policy', 'require_guest_profile_picture',\n",
       "       'require_guest_phone_verification', 'calculated_host_listings_count',\n",
       "       'reviews_per_month'],\n",
       "      dtype='object')"
      ]
     },
     "execution_count": 41,
     "metadata": {},
     "output_type": "execute_result"
    }
   ],
   "source": [
    "listings.columns"
   ]
  },
  {
   "cell_type": "code",
   "execution_count": 42,
   "metadata": {},
   "outputs": [],
   "source": [
    "#listings.house_rules\n",
    "#listings.host_total_listings_count\n",
    "#listings.number_of_reviews\n",
    "#listings.host_is_superhost.unique().value_counts()"
   ]
  },
  {
   "cell_type": "code",
   "execution_count": 43,
   "metadata": {},
   "outputs": [
    {
     "data": {
      "text/plain": [
       "f    3178\n",
       "t     407\n",
       "Name: host_is_superhost, dtype: int64"
      ]
     },
     "execution_count": 43,
     "metadata": {},
     "output_type": "execute_result"
    }
   ],
   "source": [
    "''''•\twhether the host is present\n",
    "'''\n",
    "\n",
    "listings.host_is_superhost.value_counts()"
   ]
  },
  {
   "cell_type": "code",
   "execution_count": 44,
   "metadata": {},
   "outputs": [
    {
     "ename": "SyntaxError",
     "evalue": "EOL while scanning string literal (<ipython-input-44-5af7c41427d2>, line 1)",
     "output_type": "error",
     "traceback": [
      "\u001b[1;36m  File \u001b[1;32m\"<ipython-input-44-5af7c41427d2>\"\u001b[1;36m, line \u001b[1;32m1\u001b[0m\n\u001b[1;33m    has_availability',\u001b[0m\n\u001b[1;37m                      ^\u001b[0m\n\u001b[1;31mSyntaxError\u001b[0m\u001b[1;31m:\u001b[0m EOL while scanning string literal\n"
     ]
    }
   ],
   "source": [
    "has_availability',\n",
    "       'availability_30', 'availability_60', 'availability_90',\n",
    "       'availability_365"
   ]
  },
  {
   "cell_type": "code",
   "execution_count": null,
   "metadata": {},
   "outputs": [],
   "source": [
    "len(listings.has_availability)"
   ]
  },
  {
   "cell_type": "code",
   "execution_count": null,
   "metadata": {},
   "outputs": [],
   "source": [
    "len(listings)"
   ]
  },
  {
   "cell_type": "code",
   "execution_count": null,
   "metadata": {},
   "outputs": [],
   "source": [
    "'''\n",
    "•\t\"Which hosts are running a business with multiple listings and where they?\"\n",
    "'''"
   ]
  },
  {
   "cell_type": "code",
   "execution_count": null,
   "metadata": {},
   "outputs": [],
   "source": [
    "listings.columns"
   ]
  },
  {
   "cell_type": "code",
   "execution_count": null,
   "metadata": {},
   "outputs": [],
   "source": [
    "listings.name"
   ]
  },
  {
   "cell_type": "code",
   "execution_count": null,
   "metadata": {},
   "outputs": [],
   "source": [
    "#Ex: df.duplicated(subset=['brand']) To find duplicates on specific column(s), use subset."
   ]
  },
  {
   "cell_type": "code",
   "execution_count": null,
   "metadata": {},
   "outputs": [],
   "source": [
    "listings.duplicated(subset=['name']).value_counts()"
   ]
  },
  {
   "cell_type": "code",
   "execution_count": null,
   "metadata": {},
   "outputs": [],
   "source": [
    "#df.drop_duplicates(subset=['brand']) to remove the duplicates"
   ]
  },
  {
   "cell_type": "code",
   "execution_count": null,
   "metadata": {},
   "outputs": [],
   "source": [
    "df=listings.drop_duplicates(subset=['name'])"
   ]
  },
  {
   "cell_type": "code",
   "execution_count": null,
   "metadata": {},
   "outputs": [],
   "source": [
    "#df_bigdata_duplicates = df_bigdata[df_bigdata.duplicated(cols='ID')] #store the removed duplicates"
   ]
  },
  {
   "cell_type": "code",
   "execution_count": null,
   "metadata": {},
   "outputs": [],
   "source": [
    "ID = listings['name']\n",
    "df2= listings[listings.duplicated(cols='ID')]"
   ]
  },
  {
   "cell_type": "code",
   "execution_count": null,
   "metadata": {},
   "outputs": [],
   "source": [
    "df2"
   ]
  },
  {
   "cell_type": "code",
   "execution_count": null,
   "metadata": {},
   "outputs": [],
   "source": []
  },
  {
   "cell_type": "code",
   "execution_count": null,
   "metadata": {},
   "outputs": [],
   "source": [
    "Set-2 Questions:\n",
    "'''\n",
    "•\thow many nights a dwelling is rented per year\n",
    "•\tminimum nights stay\n",
    "•\twhether the host is present\n",
    "•\thow many rooms are being rented in a building\n",
    "•\tthe number of occupants allowed in a rental\n",
    "•\twhether the listing is licensed\n",
    "'''"
   ]
  },
  {
   "cell_type": "code",
   "execution_count": null,
   "metadata": {},
   "outputs": [],
   "source": []
  },
  {
   "cell_type": "code",
   "execution_count": null,
   "metadata": {},
   "outputs": [],
   "source": []
  },
  {
   "cell_type": "code",
   "execution_count": null,
   "metadata": {},
   "outputs": [],
   "source": [
    "'''\n",
    " How many rooms are being rented in a building\n",
    "\n",
    "'''"
   ]
  },
  {
   "cell_type": "code",
   "execution_count": null,
   "metadata": {},
   "outputs": [],
   "source": [
    "'''\n",
    "'is_location_exact', 'property_type', 'room_type', 'accommodates', 'bathrooms', 'bedrooms', 'beds', 'bed_type'\n",
    "'''"
   ]
  },
  {
   "cell_type": "code",
   "execution_count": null,
   "metadata": {},
   "outputs": [],
   "source": [
    "a= listings.bedrooms.isna().value_counts()\n",
    "a"
   ]
  },
  {
   "cell_type": "code",
   "execution_count": null,
   "metadata": {},
   "outputs": [],
   "source": [
    "listings.bedrooms.sum()"
   ]
  },
  {
   "cell_type": "code",
   "execution_count": null,
   "metadata": {},
   "outputs": [],
   "source": [
    "#average rooms in a property.\n",
    "listings.bedrooms.sum()/len(listings)"
   ]
  },
  {
   "cell_type": "code",
   "execution_count": null,
   "metadata": {},
   "outputs": [],
   "source": [
    "listings.groupby(['id']).mean()"
   ]
  },
  {
   "cell_type": "code",
   "execution_count": null,
   "metadata": {},
   "outputs": [],
   "source": [
    "listings.id"
   ]
  },
  {
   "cell_type": "code",
   "execution_count": null,
   "metadata": {},
   "outputs": [],
   "source": [
    "''''the number of occupants allowed in a rental'''"
   ]
  },
  {
   "cell_type": "code",
   "execution_count": null,
   "metadata": {},
   "outputs": [],
   "source": [
    "listings.accommodates.sort_values().unique()"
   ]
  },
  {
   "cell_type": "code",
   "execution_count": null,
   "metadata": {},
   "outputs": [],
   "source": [
    "listings[['name','accommodates']]"
   ]
  },
  {
   "cell_type": "code",
   "execution_count": null,
   "metadata": {},
   "outputs": [],
   "source": [
    "'''\n",
    "•\twhether the listing is licensed\n",
    "'''"
   ]
  },
  {
   "cell_type": "code",
   "execution_count": null,
   "metadata": {},
   "outputs": [],
   "source": [
    "listings.requires_license.value_counts()\n",
    "#Dont require a license  for listings"
   ]
  },
  {
   "cell_type": "code",
   "execution_count": null,
   "metadata": {},
   "outputs": [],
   "source": [
    "'''\n",
    "how many rooms are being rented in a building\n",
    "'''"
   ]
  },
  {
   "cell_type": "code",
   "execution_count": null,
   "metadata": {},
   "outputs": [],
   "source": [
    "listings[['name','bedrooms']]"
   ]
  },
  {
   "cell_type": "code",
   "execution_count": null,
   "metadata": {},
   "outputs": [],
   "source": [
    "'''\n",
    "whether the host is present\n",
    "'''"
   ]
  },
  {
   "cell_type": "code",
   "execution_count": null,
   "metadata": {},
   "outputs": [],
   "source": [
    "listings.host_is_superhost.value_counts()"
   ]
  },
  {
   "cell_type": "code",
   "execution_count": null,
   "metadata": {},
   "outputs": [],
   "source": [
    "for listings(name','host_is_superhost'):"
   ]
  },
  {
   "cell_type": "code",
   "execution_count": null,
   "metadata": {
    "scrolled": true
   },
   "outputs": [],
   "source": [
    "a=[]\n",
    "for x,y in listings[['name','host_is_superhost']].iterrows():\n",
    "    if(y.all()=='t'):\n",
    "        print(x,y)\n",
    "        #a.append(y)    "
   ]
  },
  {
   "cell_type": "code",
   "execution_count": null,
   "metadata": {},
   "outputs": [],
   "source": [
    "len(a) # Host is present in 407 properties"
   ]
  },
  {
   "cell_type": "code",
   "execution_count": null,
   "metadata": {},
   "outputs": [],
   "source": [
    "'''\n",
    "minimum nights stay\n",
    "'''"
   ]
  },
  {
   "cell_type": "code",
   "execution_count": null,
   "metadata": {},
   "outputs": [],
   "source": [
    "listings.columns"
   ]
  },
  {
   "cell_type": "code",
   "execution_count": null,
   "metadata": {},
   "outputs": [],
   "source": [
    "listings.minimum_nights.unique()"
   ]
  },
  {
   "cell_type": "code",
   "execution_count": null,
   "metadata": {},
   "outputs": [],
   "source": [
    "listings[['name','minimum_nights']]"
   ]
  },
  {
   "cell_type": "code",
   "execution_count": null,
   "metadata": {},
   "outputs": [],
   "source": [
    "'''\n",
    "how many nights a dwelling is rented per year\n",
    "\n",
    "'''"
   ]
  },
  {
   "cell_type": "code",
   "execution_count": null,
   "metadata": {
    "scrolled": false
   },
   "outputs": [],
   "source": [
    "listings[['name','maximum_nights']]"
   ]
  },
  {
   "cell_type": "code",
   "execution_count": null,
   "metadata": {},
   "outputs": [],
   "source": [
    "a= calendar.sort_values(by='date')"
   ]
  },
  {
   "cell_type": "code",
   "execution_count": null,
   "metadata": {},
   "outputs": [],
   "source": [
    "a.iloc[:,1:2]"
   ]
  },
  {
   "cell_type": "code",
   "execution_count": null,
   "metadata": {},
   "outputs": [],
   "source": []
  },
  {
   "cell_type": "code",
   "execution_count": null,
   "metadata": {},
   "outputs": [],
   "source": [
    "#Latitude and longitude\n",
    "listings[['name','latitude','longitude']]"
   ]
  },
  {
   "cell_type": "code",
   "execution_count": null,
   "metadata": {},
   "outputs": [],
   "source": [
    "'''\n",
    "BBox = ((df.longitude.min(),   df.longitude.max(),      \n",
    "         df.latitude.min(), df.latitude.max())\n",
    "''''"
   ]
  },
  {
   "cell_type": "code",
   "execution_count": null,
   "metadata": {},
   "outputs": [],
   "source": [
    "a=listings.latitude.max()\n",
    "a"
   ]
  },
  {
   "cell_type": "code",
   "execution_count": null,
   "metadata": {},
   "outputs": [],
   "source": [
    "print(listings.longitude.min())\n",
    "print(listings.longitude.max())\n",
    "print(listings.latitude.min())\n",
    "print( listings.latitude.max())"
   ]
  },
  {
   "cell_type": "code",
   "execution_count": null,
   "metadata": {},
   "outputs": [],
   "source": [
    "BBox = ((listings.longitude.min(),   listings.longitude.max(),listings.latitude.min(), listings.latitude.max()))"
   ]
  },
  {
   "cell_type": "code",
   "execution_count": null,
   "metadata": {},
   "outputs": [],
   "source": [
    "ruh_m = plt.imread('P:/Udactity NanoDegree Data Scientist/2.Introduction to Data Science/map.png')"
   ]
  },
  {
   "cell_type": "code",
   "execution_count": null,
   "metadata": {},
   "outputs": [],
   "source": [
    "fig, ax = plt.subplots(figsize = (8,7))\n",
    "ax.scatter(listings.longitude, listings.latitude, zorder=1, alpha= 0.2, c='b', s=10)\n",
    "ax.set_title('Plotting Spatial Data on Riyadh Map')\n",
    "ax.set_xlim(BBox[0],BBox[1])\n",
    "ax.set_ylim(BBox[2],BBox[3])\n",
    "ax.imshow(ruh_m, zorder=0, extent = BBox, aspect= 'equal')"
   ]
  },
  {
   "cell_type": "code",
   "execution_count": null,
   "metadata": {},
   "outputs": [],
   "source": []
  },
  {
   "cell_type": "code",
   "execution_count": null,
   "metadata": {},
   "outputs": [],
   "source": []
  },
  {
   "cell_type": "code",
   "execution_count": null,
   "metadata": {},
   "outputs": [],
   "source": []
  },
  {
   "cell_type": "code",
   "execution_count": null,
   "metadata": {},
   "outputs": [],
   "source": []
  },
  {
   "cell_type": "code",
   "execution_count": null,
   "metadata": {},
   "outputs": [],
   "source": []
  },
  {
   "cell_type": "code",
   "execution_count": null,
   "metadata": {},
   "outputs": [],
   "source": []
  },
  {
   "cell_type": "code",
   "execution_count": null,
   "metadata": {},
   "outputs": [],
   "source": []
  },
  {
   "cell_type": "code",
   "execution_count": null,
   "metadata": {},
   "outputs": [],
   "source": []
  },
  {
   "cell_type": "code",
   "execution_count": null,
   "metadata": {},
   "outputs": [],
   "source": []
  },
  {
   "cell_type": "code",
   "execution_count": null,
   "metadata": {},
   "outputs": [],
   "source": []
  },
  {
   "cell_type": "code",
   "execution_count": null,
   "metadata": {},
   "outputs": [],
   "source": []
  },
  {
   "cell_type": "code",
   "execution_count": null,
   "metadata": {},
   "outputs": [],
   "source": []
  },
  {
   "cell_type": "code",
   "execution_count": null,
   "metadata": {},
   "outputs": [],
   "source": []
  },
  {
   "cell_type": "code",
   "execution_count": null,
   "metadata": {},
   "outputs": [],
   "source": []
  }
 ],
 "metadata": {
  "kernelspec": {
   "display_name": "Python 3",
   "language": "python",
   "name": "python3"
  },
  "language_info": {
   "codemirror_mode": {
    "name": "ipython",
    "version": 3
   },
   "file_extension": ".py",
   "mimetype": "text/x-python",
   "name": "python",
   "nbconvert_exporter": "python",
   "pygments_lexer": "ipython3",
   "version": "3.8.5"
  }
 },
 "nbformat": 4,
 "nbformat_minor": 4
}
